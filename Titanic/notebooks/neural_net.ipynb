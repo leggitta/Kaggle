{
 "cells": [
  {
   "cell_type": "code",
   "execution_count": 1,
   "metadata": {
    "collapsed": false
   },
   "outputs": [
    {
     "name": "stderr",
     "output_type": "stream",
     "text": [
      "Using TensorFlow backend.\n"
     ]
    }
   ],
   "source": [
    "import numpy as np\n",
    "import pandas as pd\n",
    "from sklearn import cross_validation, preprocessing\n",
    "from keras.models import Sequential\n",
    "from keras.layers import Dense, Dropout, Activation\n",
    "from keras.optimizers import SGD\n",
    "from helpers import load_titanic"
   ]
  },
  {
   "cell_type": "code",
   "execution_count": 2,
   "metadata": {
    "collapsed": false
   },
   "outputs": [],
   "source": [
    "# define the neural net function\n",
    "def neural_net():\n",
    "    \n",
    "    # initialize neural net\n",
    "    model = Sequential()\n",
    "    model.add(Dense(128, input_dim=7, init='normal', activation='relu'))\n",
    "    model.add(Dense(128, init='normal', activation='relu'))\n",
    "    model.add(Dense(1, activation='sigmoid'))\n",
    "    model.compile(loss='binary_crossentropy',\n",
    "                  optimizer='rmsprop',\n",
    "                  metrics=['accuracy'])\n",
    "    return model"
   ]
  },
  {
   "cell_type": "code",
   "execution_count": 3,
   "metadata": {
    "collapsed": true
   },
   "outputs": [],
   "source": [
    "# load the titanic data\n",
    "train, test = load_titanic()"
   ]
  },
  {
   "cell_type": "code",
   "execution_count": 4,
   "metadata": {
    "collapsed": false
   },
   "outputs": [],
   "source": [
    "# create feature vectors and labels\n",
    "features = ['Sex', 'Pclass', 'Age', 'Fare', 'SibSp', 'Parch', 'Embarked']\n",
    "X = train[features].values\n",
    "y = train['Survived'].values"
   ]
  },
  {
   "cell_type": "code",
   "execution_count": 5,
   "metadata": {
    "collapsed": false
   },
   "outputs": [
    {
     "name": "stdout",
     "output_type": "stream",
     "text": [
      "0.830582793694\n"
     ]
    }
   ],
   "source": [
    "# split into folds for cross validation\n",
    "kfold = cross_validation.StratifiedKFold(y=y, n_folds=10, shuffle=True)\n",
    "cvscores = []  # create list to store scores\n",
    "\n",
    "# loop through the folds\n",
    "for i, (train_ix, test_ix) in enumerate(kfold):\n",
    "    \n",
    "    # rescale the data\n",
    "    scaler = preprocessing.StandardScaler()\n",
    "    Xtrain = scaler.fit_transform(X[train_ix])\n",
    "    Xtest = scaler.transform(X[test_ix])\n",
    "    \n",
    "    # initialize network\n",
    "    model = neural_net()\n",
    "    \n",
    "    # fit and predict\n",
    "    model.fit(Xtrain, y[train_ix], verbose=0)\n",
    "    _, scores = model.evaluate(Xtest, y[test_ix], verbose=0)\n",
    "    cvscores.append(scores)\n",
    "\n",
    "# print average score\n",
    "print(np.mean(cvscores))"
   ]
  },
  {
   "cell_type": "code",
   "execution_count": 6,
   "metadata": {
    "collapsed": true
   },
   "outputs": [],
   "source": [
    "# train on entire dataset\n",
    "Xtrain = X\n",
    "Xtest = test[features].values\n",
    "\n",
    "# rescale data\n",
    "scaler = preprocessing.StandardScaler()\n",
    "Xtrain = scaler.fit_transform(Xtrain)\n",
    "Xtest = scaler.transform(Xtest)\n",
    "\n",
    "# initialize network\n",
    "model = neural_net()\n",
    "\n",
    "# fit and predict\n",
    "model.fit(Xtrain, y, verbose=0)\n",
    "ypred = model.predict(Xtest)"
   ]
  },
  {
   "cell_type": "code",
   "execution_count": 7,
   "metadata": {
    "collapsed": false
   },
   "outputs": [],
   "source": [
    "# predict on testing data\n",
    "test['Survived'] = (ypred[:, 0] > 0.5).astype(int)\n",
    "\n",
    "# write predictions to csv\n",
    "pred_file = '../data/nn.csv'\n",
    "test[['PassengerId', 'Survived']].to_csv(pred_file, index=False)"
   ]
  },
  {
   "cell_type": "markdown",
   "metadata": {},
   "source": [
    "Kaggle Score: 0.78947"
   ]
  }
 ],
 "metadata": {
  "anaconda-cloud": {},
  "kernelspec": {
   "display_name": "Python [Root]",
   "language": "python",
   "name": "Python [Root]"
  },
  "language_info": {
   "codemirror_mode": {
    "name": "ipython",
    "version": 3
   },
   "file_extension": ".py",
   "mimetype": "text/x-python",
   "name": "python",
   "nbconvert_exporter": "python",
   "pygments_lexer": "ipython3",
   "version": "3.5.2"
  }
 },
 "nbformat": 4,
 "nbformat_minor": 0
}
