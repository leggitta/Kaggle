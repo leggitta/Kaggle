{
 "cells": [
  {
   "cell_type": "code",
   "execution_count": 1,
   "metadata": {
    "collapsed": false
   },
   "outputs": [],
   "source": [
    "import pandas as pd\n",
    "from sklearn import cross_validation, svm, preprocessing, pipeline"
   ]
  },
  {
   "cell_type": "code",
   "execution_count": 2,
   "metadata": {
    "collapsed": true
   },
   "outputs": [],
   "source": [
    "# define training and testing data\n",
    "train_file = \"../data/train.csv\"\n",
    "test_file = \"../data/test.csv\"\n",
    "\n",
    "# read files into pandas\n",
    "train = pd.read_csv(train_file)\n",
    "test = pd.read_csv(test_file)"
   ]
  },
  {
   "cell_type": "code",
   "execution_count": 3,
   "metadata": {
    "collapsed": false
   },
   "outputs": [],
   "source": [
    "# compute default values for missing data\n",
    "med_age = train.Age.median()  # median age\n",
    "mod_emb = train.Embarked.mode().values[0]  # mode embarked point\n",
    "med_fair = train.Fare.median()  # median fair\n",
    "\n",
    "# fill missing columns\n",
    "train.fillna({'Age': med_age, 'Embarked': mod_emb}, inplace=True)\n",
    "test.fillna({'Age': med_age, 'Fare': med_fair}, inplace=True)\n",
    "\n",
    "# recode categorical variables\n",
    "sex = {'female': 0, 'male': 1}\n",
    "emb = {'S': 0, 'C': 1, 'Q': 2}\n",
    "train.replace({'Sex': sex, 'Embarked': emb}, inplace=True)\n",
    "test.replace({'Sex': sex, 'Embarked': emb}, inplace=True)"
   ]
  },
  {
   "cell_type": "code",
   "execution_count": 4,
   "metadata": {
    "collapsed": false
   },
   "outputs": [],
   "source": [
    "# create feature vectors and labels\n",
    "features = ['Sex', 'Pclass', 'Age', 'Fare', 'SibSp', 'Parch', 'Embarked']\n",
    "X = train[features].values\n",
    "y = train['Survived'].values"
   ]
  },
  {
   "cell_type": "code",
   "execution_count": 5,
   "metadata": {
    "collapsed": false
   },
   "outputs": [
    {
     "name": "stdout",
     "output_type": "stream",
     "text": [
      "[ 0.78212291  0.7877095   0.78089888  0.75280899  0.8079096 ]\n"
     ]
    }
   ],
   "source": [
    "# create the classifier\n",
    "clf = pipeline.make_pipeline(preprocessing.StandardScaler(), svm.LinearSVC())\n",
    "\n",
    "# cross validate on the training data\n",
    "scores = cross_validation.cross_val_score(clf, X, y, cv=5)\n",
    "print(scores)"
   ]
  },
  {
   "cell_type": "code",
   "execution_count": 6,
   "metadata": {
    "collapsed": false
   },
   "outputs": [],
   "source": [
    "# predict on testing data\n",
    "clf.fit(X, y)\n",
    "test['Survived'] = clf.predict(test[features])"
   ]
  },
  {
   "cell_type": "code",
   "execution_count": 7,
   "metadata": {
    "collapsed": false
   },
   "outputs": [],
   "source": [
    "# write predictions to csv\n",
    "pred_file = '../data/svm.csv'\n",
    "test[['PassengerId', 'Survived']].to_csv(pred_file, index=False)"
   ]
  }
 ],
 "metadata": {
  "anaconda-cloud": {},
  "kernelspec": {
   "display_name": "Python [Root]",
   "language": "python",
   "name": "Python [Root]"
  },
  "language_info": {
   "codemirror_mode": {
    "name": "ipython",
    "version": 3
   },
   "file_extension": ".py",
   "mimetype": "text/x-python",
   "name": "python",
   "nbconvert_exporter": "python",
   "pygments_lexer": "ipython3",
   "version": "3.5.2"
  }
 },
 "nbformat": 4,
 "nbformat_minor": 0
}
